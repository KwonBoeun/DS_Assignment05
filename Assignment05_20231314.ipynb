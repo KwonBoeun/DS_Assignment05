{
 "cells": [
  {
   "cell_type": "markdown",
   "id": "c39617c8-22f8-455e-bcd8-4f15208bb637",
   "metadata": {},
   "source": [
    "# 생일이 느린 순서대로 10명 출력하기\n",
    "** 동명이인의 경우, 학번 뒷자리로 구분함.\n",
    "* csv 파일로 저장한 생일 데이터를 name, birthday 순으로 리스트에 저장한 후, 이를 최대 힙으로 구성한다. 이때, 최대 힙으로 구성한 이유는 생일이 늦을수록. 즉, 어릴수록 년월일은 더 크기 때문이다. (ex.20000101 < 20010101)\n",
    "* 최대 힙에서 큰 순서대로 10개의 name 데이터를 출력한다."
   ]
  },
  {
   "cell_type": "code",
   "execution_count": 1,
   "id": "249cd346-6f27-468f-bb5d-b3aeb27b4b44",
   "metadata": {},
   "outputs": [
    {
     "name": "stdout",
     "output_type": "stream",
     "text": [
      "['홍서연', '신수민', '이서영_42', '강민주', '김민경', '이서영_41', '배시은', '김여원', '이서진', '서홍빈']\n"
     ]
    }
   ],
   "source": [
    "import csv\n",
    "from heap import Heap\n",
    "age_min_heap = Heap()\n",
    "\n",
    "with open('birthday.csv', mode='r',encoding='utf-8') as file:\n",
    "    csv_reader=csv.reader(file)\n",
    "    next(csv_reader)\n",
    "\n",
    "    data = []\n",
    "    for row in csv_reader:\n",
    "        name =row[1]\n",
    "        birthday=row[2]\n",
    "\n",
    "        if birthday =='':\n",
    "            birthday=0\n",
    "        else:\n",
    "            birthday=int(birthday)\n",
    "\n",
    "        data.append((birthday,name))\n",
    "\n",
    "age_min_heap=Heap(data)\n",
    "age_min_heap.buildHeap()\n",
    "\n",
    "age_min =[]\n",
    "for i in range(10):\n",
    "    birthday, name= age_min_heap.deleteMax()\n",
    "    age_min.append(name)\n",
    "\n",
    "print(age_min)"
   ]
  },
  {
   "cell_type": "markdown",
   "id": "ef7c90ff-1904-4b60-b0d3-1b318d62ff8d",
   "metadata": {},
   "source": [
    "# 조원의 이름과 생년월일 출력하기\n",
    "** 생일을 입력하지 않은 경우, 'None'을 출력한다.\n",
    "\n",
    "** 동명이인의 경우, 학번 뒷자리로 구분함.\n",
    "* CSV 파일로 저장한 생일 데이터를 name, birthday 순으로 CircularDoublyLinkedList 형태로 저장한다.\n",
    "* team_list에 팀원 이름을 저장한 후, CircularDoublyLinkedList에서 해당 이름을 찾아 name과 birthday 데이터를 출력한다."
   ]
  },
  {
   "cell_type": "code",
   "execution_count": 2,
   "id": "a0e3d84c-c044-4518-a164-d9d6239a0a5e",
   "metadata": {},
   "outputs": [
    {
     "name": "stdout",
     "output_type": "stream",
     "text": [
      "[('권보은', 20041004), ('김승연', 20030124), ('김주원', 20030110), ('서홍빈', 20051024), ('은유빈', 20040503), ('이서영_42', 20051225), ('이아현', 20010904), ('이예은', 20030109), ('임성민', 20021213), ('정예은', 'None')]\n"
     ]
    }
   ],
   "source": [
    "import csv\n",
    "from list.circularDoublyLinkedList import CircularDoublyLinkedList\n",
    "birthday_list=CircularDoublyLinkedList()\n",
    "team_birth=[]\n",
    "team_list=['권보은','김승연','김주원','서홍빈','은유빈','이서영_42','이아현','이예은','임성민','정예은']\n",
    "with open('birthday.csv', mode='r',encoding='utf-8') as file:\n",
    "    csv_reader=csv.reader(file)\n",
    "    next(csv_reader)\n",
    "\n",
    "    for row in csv_reader:\n",
    "        name =row[1]\n",
    "        birthday=row[2]\n",
    "        if birthday == '':\n",
    "            birthday='None'\n",
    "        else:\n",
    "            birthday=int(birthday)\n",
    "        birthday_list.append((name,birthday))\n",
    "\n",
    "for node in birthday_list:\n",
    "    name, birthday = node\n",
    "    if name in team_list:\n",
    "        team_birth.append(node)\n",
    "\n",
    "print(team_birth)"
   ]
  },
  {
   "cell_type": "markdown",
   "id": "ad41abbb-90b1-4d80-a5e1-c8b0999b407a",
   "metadata": {},
   "source": [
    "# 연습문제 8장(우선 순위 큐: 힙)"
   ]
  },
  {
   "cell_type": "markdown",
   "id": "15f17f60-5692-4107-be9e-748c17d304cc",
   "metadata": {},
   "source": [
    "## 8-1"
   ]
  },
  {
   "cell_type": "markdown",
   "id": "251f62a2-73a0-46dc-94ec-1f18c67f5cbf",
   "metadata": {},
   "source": [
    "**더 얕은 곳에 있는 원소가 더 깊은 곳에 있는 원소보다 더 작을 수 있다.** \n",
    "* 최대 힙에서는 부모노드와 자식 노드 간의 관계에서 큰 원소가 작은 원소보다 더 깊은 곳에 있어야 한다는 것이 포인트이다. 따라서 전체 노드간의 관계가 이와 같다고는 볼 수 없다.\n",
    "\n",
    "* 예를 들어 아래와 같은 경우에서는 전체 구조는 각 부모가 자식보다 크거나 같음을 유지하기 때문에 전체 구조는 최대힙을 만족한다. 이때 level 1의 노드인 5는 level 2인 노드 7보다 작다. 이는 작은 원소가 큰 원소보다 더 깊은 곳에 있을 수 있다는 것을 보여주는 예이다.   \n",
    "```\n",
    "                                          10         \n",
    "                                         /  \\        level 0 : 10   \n",
    "                                        5    9       level 1 : 5, 9\n",
    "                                       / \\   /       level 2 : 2, 3, 7\n",
    "                                      2   3  7\n",
    "```"
   ]
  },
  {
   "cell_type": "markdown",
   "id": "054f7295-a890-42c4-a611-218de84f1c8e",
   "metadata": {},
   "source": [
    "## 8-2"
   ]
  },
  {
   "cell_type": "markdown",
   "id": "06124126-a024-4df5-bb35-a6673c201fff",
   "metadata": {},
   "source": [
    "**최대 힙에서 A[0]는 항상 큰 값을 가지지만, A[n-1]은 반드시 가장 작은 값을 갖는 것은 아니다.**\n",
    "* 8-1 질문과 동일하게, 최대 힙의 핵심 성질은 **(1)부모 노드는 항상 자식 노드보다 크거나 같다. (2) 루트 노드(A[0])는 최댓값이다.** 이다.\n",
    "그래서 전체 노드 간의 관계도 이와 같다고는 할 수 없다. 그 예는 위의 예시를 참고하면 된다.\n",
    "따라서 A[n-1]은 트리의가장 마지막 위치에 있는 원소일 뿐, 그 값이 힙 전체에서 가장 작다는 보장은 없다."
   ]
  },
  {
   "cell_type": "markdown",
   "id": "cf1420cf-7b38-40ef-a8be-7c650090a928",
   "metadata": {},
   "source": [
    "## 8-3"
   ]
  },
  {
   "cell_type": "markdown",
   "id": "a2b86273-eca2-400a-98ff-ad058a21ee85",
   "metadata": {},
   "source": [
    "**(n//2) 개**\n",
    "* 스며내리기를 할지 알아보지 않고 그냥 넘어가는 원소는 리프 노드에 해당하는 원소들이다. \n",
    "* 리스트 A[0...n-1]를 힙으로 만들었을 때, 부모 노드 중 마지막 노드의 인덱스는 (n-2)//2 이다. 따라서 부모노드의 총 개수는 A[0]부터 A[(n-2)//2]까지 이므로 **(n-2)//2+1 개**이다.\n",
    "따라서 **(전체 노드) - (부모 노드) = (리프 노드)**이므로 그 값은 n - ((n-2)//2+1)로 식을 세울 수 있으며 이를 정리하면 **n - ((n-2)//2+1) = n//2** 가 된다."
   ]
  },
  {
   "cell_type": "markdown",
   "id": "3ba48bd8-2ecb-4616-a6f3-b3ad06f70dcb",
   "metadata": {},
   "source": [
    "## 8-4"
   ]
  },
  {
   "cell_type": "markdown",
   "id": "886bea90-615c-49e6-8fad-7a9ace3c9f62",
   "metadata": {},
   "source": [
    "**최악의 경우 : Θ(log n) // 최선의 경우 : Θ(1)**\n",
    "* 주어진 배열을 스며내리기를 했을 때, 완전 이진 트리 구조를 갖는 힙이 된다. 이때 완전 이진 트리의 depth는 log n이다. 최악의 경우는 노드가 트리의 맨 아래까지 내려가는 경우, 즉 **루트 노드에서 시작해 최대 깊이까지 내려가는 경우**이다. 따라서 **최악의 경우 시간 복잡도는 Θ(log n)** 이다. 반대로 최선의 경우는 **현재 노드가 이미 자식들보다 크거나 같아 단 한번의 비교만으로 알고리즘이 종료되는 경우**이다. 따라서 **최선의 경우 시간 복잡도는 Θ(1)** 이다."
   ]
  },
  {
   "cell_type": "markdown",
   "id": "163439db-9c0c-48cd-b4f1-3b098f328754",
   "metadata": {},
   "source": [
    "## 8-5"
   ]
  },
  {
   "cell_type": "markdown",
   "id": "dd9cd404-d218-4532-9102-2ec221799840",
   "metadata": {},
   "source": [
    "**힙의 맨 마지막 원소 삭제는 매우 간단한 작업이다.**\n",
    "* 힙은 배열로 구현되어 있고, 맨 마지막 원소 A[n-1]를 A.pop()을 이용하여 제거하면 된다. 또한 힙 구조는 완전 이진 트리라서 **맨 마지막 노드는 항상 '가장 오른쪽 아래 리프 노드'** 이다. 힙 구조상 가장 나중에 삽입된 노드이기 때문에 **제거하더라도 추가 정렬 작업이 필요하지 않다.** 따라서 이때의 **시간 복잡도는 Θ(1)** 이며, 매우 간단한 작업이다."
   ]
  },
  {
   "cell_type": "markdown",
   "id": "cd5e3e52-aa63-4c38-a1bc-90cf46cba953",
   "metadata": {},
   "source": [
    "## 8-6"
   ]
  },
  {
   "cell_type": "markdown",
   "id": "136ea1af-3af7-44c8-a7ff-b76f3317c85c",
   "metadata": {},
   "source": [
    "**스며올리기 방식은 시간 복잡도가 O(nlogn), 스며내리기 방식은 시간 복잡도가 O(n)이므로 스며올리기 방식은 스며내리기 방식보다 비효율적이다.**\n",
    "* buildHeap()의 기본 방식은 **스며내리기(percolateDown())으로 마지막 노드부터 루트까지 역순으로 정렬**한다. 이때의 시간 복잡도를 계산해보면 **(n/2)\\*1 + (n/4)\\*2 + (n/8)\\*3 + ... + 1\\*log₂ n = Θ(n)** 이다.\n",
    "* 바꾼 buildHeap()의 방식은 **스며올리기(percolateUp())으로 배열을 왼쪽부터 순서대로 insert하면서 정렬**한다. 하나의 n번째 노드를 삽입할 때 log n level까지 존재하므로 총 시간 복잡도를 계산하면 **O(nlogn)** 이 된다.\n",
    "* 따라서 **스며내리기 방식이 스며올리기 방식보다 효율적**이다."
   ]
  },
  {
   "cell_type": "markdown",
   "id": "2168efaf-21bd-4bae-998e-12dae4c69570",
   "metadata": {},
   "source": [
    "## 8-7"
   ]
  },
  {
   "cell_type": "markdown",
   "id": "3878e2e6-12b5-4acc-b24d-9331125b9803",
   "metadata": {},
   "source": [
    "**스며올리기(percolateUp) 과정을 이용하여 O(log n)시간 안에 힙의 성질에 맞게 힙을 수선할 수 있다.**\n",
    "* 값을 증가시킨 노드가 있다는 것은 그 **노드의 원소가 부모보다 커졌을 가능성이 있다**는 것이다. 따라서 힙의 성질을 유지하기 위해 부모와 비교하며 **스며올리기(percolateUp)방식을 이용**해야 한다.\n",
    "* 만약 **증가시킨 현재 노드가 부모보다 크다면 둘의 값을 교환**한다. 이때, 최악의 경우 루트까지 오라가야 하므로 해당하는 level만큼 반복해야한다. 즉, **최대 log₂ n 번의 비교, 교환이 발생**한다.\n",
    "* 따라서 **시간복잡도는 O(log n)** 이다."
   ]
  },
  {
   "cell_type": "markdown",
   "id": "0d85f1e7-f696-43ed-ae04-9a407ad78445",
   "metadata": {},
   "source": [
    "# LeetCode 703. Kth Largest Element in Stream\n",
    "** leetCode에서 python 내장 모듈인 heapq(최소 힙 기반)을 활용하였다.\n",
    "* 기존 값을 사용자 정의 함수인 add를 활용하여 힙 리스트에 넣는다. 이때 add는 heapq.heappush(원소 삽입 후 최소 힙 기준으로 재정렬)를 이용해 구현된다.\n",
    "* 힙의 크기가 k번째보다 커질 경우, k번째로 큰 값이 결정되었으므로 힙에서 가장 작은 값을 제거한다.(최소 힙에서는 루트 값이 가장 작기 때문이다.)\n",
    "* 최소 힙의 루트를 출력한다. 이때의 루트가 k번째로 큰 값이다."
   ]
  },
  {
   "cell_type": "code",
   "execution_count": 3,
   "id": "10794303-d6da-46c3-a91c-5eba9eade4f3",
   "metadata": {},
   "outputs": [
    {
     "name": "stdout",
     "output_type": "stream",
     "text": [
      "3\n",
      "4\n",
      "5\n"
     ]
    }
   ],
   "source": [
    "import heapq\n",
    "class KthLargest:\n",
    "\n",
    "    def __init__(self, k: int, nums: list[int]):\n",
    "        self.k = k\n",
    "        self.min_heap=[]\n",
    "\n",
    "        for num in nums:\n",
    "            self.add(num)\n",
    "        \n",
    "\n",
    "    def add(self, val: int) -> int:\n",
    "        heapq.heappush(self.min_heap, val)\n",
    "\n",
    "        if len(self.min_heap) > self.k:\n",
    "            heapq.heappop(self.min_heap)\n",
    "        return self.min_heap[0]\n",
    "        \n",
    "kthLargest = KthLargest(3,[4,5,2])\n",
    "print(kthLargest.add(3))\n",
    "print(kthLargest.add(7))\n",
    "print(kthLargest.add(10))"
   ]
  }
 ],
 "metadata": {
  "kernelspec": {
   "display_name": "Python 3 (ipykernel)",
   "language": "python",
   "name": "python3"
  },
  "language_info": {
   "codemirror_mode": {
    "name": "ipython",
    "version": 3
   },
   "file_extension": ".py",
   "mimetype": "text/x-python",
   "name": "python",
   "nbconvert_exporter": "python",
   "pygments_lexer": "ipython3",
   "version": "3.9.12"
  }
 },
 "nbformat": 4,
 "nbformat_minor": 5
}
